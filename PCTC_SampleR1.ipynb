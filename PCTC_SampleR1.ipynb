{
  "nbformat": 4,
  "nbformat_minor": 0,
  "metadata": {
    "colab": {
      "provenance": [],
      "authorship_tag": "ABX9TyPA0NnEA5BJ7kmgBbiCPIBM",
      "include_colab_link": true
    },
    "kernelspec": {
      "name": "python3",
      "display_name": "Python 3"
    },
    "language_info": {
      "name": "python"
    }
  },
  "cells": [
    {
      "cell_type": "markdown",
      "metadata": {
        "id": "view-in-github",
        "colab_type": "text"
      },
      "source": [
        "<a href=\"https://colab.research.google.com/github/LayLayXmss/Perse-Coding-Team-Challenge/blob/main/PCTC_SampleR1.ipynb\" target=\"_parent\"><img src=\"https://colab.research.google.com/assets/colab-badge.svg\" alt=\"Open In Colab\"/></a>"
      ]
    },
    {
      "cell_type": "markdown",
      "source": [
        "# PCTC Sample Round 0"
      ],
      "metadata": {
        "id": "VIzU7cFhxaXr"
      }
    },
    {
      "cell_type": "code",
      "source": [
        "#Q1\n",
        "num1 = int(input(\"Number1(0 to 1000)\"))\n",
        "num2 = int(input(\"number2( o to 1000)\"))\n",
        "\n",
        "if num1>num2:\n",
        "  x=num1-num2\n",
        "else:\n",
        "  x=num2-num1\n",
        "print(x)"
      ],
      "metadata": {
        "id": "j-Ve9U_vXEV9"
      },
      "execution_count": null,
      "outputs": []
    },
    {
      "cell_type": "code",
      "source": [
        "#Q2\n",
        "word = input(\"key in a word \")\n",
        "word = word * 4\n",
        "if len(word) > 30:\n",
        "   print(word)\n",
        "else:\n",
        "   n = 30-len(word)\n",
        "   #print(n)\n",
        "   #print(word)\n",
        "   for i in range(n):\n",
        "     word= word + word[i]\n",
        "   print(word)"
      ],
      "metadata": {
        "id": "Z3fLkUrUYJBA"
      },
      "execution_count": null,
      "outputs": []
    },
    {
      "cell_type": "code",
      "source": [
        "'abc' * 4"
      ],
      "metadata": {
        "colab": {
          "base_uri": "https://localhost:8080/",
          "height": 35
        },
        "id": "MSCxAiJ2cGP9",
        "outputId": "b4d082a3-af17-4329-d215-4802cd61e96f"
      },
      "execution_count": null,
      "outputs": [
        {
          "output_type": "execute_result",
          "data": {
            "text/plain": [
              "'abcabcabcabc'"
            ],
            "application/vnd.google.colaboratory.intrinsic+json": {
              "type": "string"
            }
          },
          "metadata": {},
          "execution_count": 10
        }
      ]
    },
    {
      "cell_type": "code",
      "source": [
        "#Q3\n",
        "num = int(input(\"What is the number:\"))\n",
        "if num > 50:\n",
        "  print(\"yes,dream big.\")\n",
        "else:\n",
        "  print(\"on the small side\")"
      ],
      "metadata": {
        "colab": {
          "base_uri": "https://localhost:8080/"
        },
        "id": "JjCxMYT5cI2I",
        "outputId": "f81351a9-8fb4-45de-a6bd-4e529f819597"
      },
      "execution_count": null,
      "outputs": [
        {
          "output_type": "stream",
          "name": "stdout",
          "text": [
            "What is the number:5\n",
            "on the small side\n"
          ]
        }
      ]
    },
    {
      "cell_type": "code",
      "source": [
        "#Q4\n",
        "result = \"\"\n",
        "firstnum = int(input(\"Num 1 \"))\n",
        "oper = input(\"input an operator\")\n",
        "secnum = int(input(\"Num 2 \"))\n",
        "if oper == \"*\":\n",
        "  result = firstnum * secnum\n",
        "elif oper == \"+\":\n",
        "  result = firstnum + secnum\n",
        "else:\n",
        "  print(\"Operator should be addition or multiplication\")\n",
        "print(result)"
      ],
      "metadata": {
        "id": "Xxpcq65fgOc3",
        "colab": {
          "base_uri": "https://localhost:8080/"
        },
        "outputId": "83298f78-d7d1-4c7a-fb2d-34ff34b0bd6e"
      },
      "execution_count": null,
      "outputs": [
        {
          "output_type": "stream",
          "name": "stdout",
          "text": [
            "Num 1 3\n",
            "input an operator-\n",
            "Num 2 2\n",
            "Operator should be addition or multiplication\n",
            "45\n"
          ]
        }
      ]
    },
    {
      "cell_type": "code",
      "execution_count": null,
      "metadata": {
        "id": "AyVeBTmdUDzO"
      },
      "outputs": [],
      "source": [
        "#Q5\n",
        "greeting = input(\"Say a greeting.\")\n",
        "name = input(\"what is your name?\")\n",
        "print(greeting,\" \",name)"
      ]
    },
    {
      "cell_type": "code",
      "source": [
        "#Q6\n",
        "name1 = input()\n",
        "name2 = input()\n",
        "name3 = input()\n",
        "name4 = input()\n",
        "name5 = input()\n",
        "namelist = [name1,name2,name3,name4,name5]\n",
        "Order = [\"1st\",\"2nd\",\"3rd\",\"4th\",\"5th\"]\n",
        "for i in range(5):\n",
        " # print(namelist[i])\n",
        "  if namelist[i]==\"Ellie\":\n",
        "    print(i+1)\n",
        "#print(namelist.index(\"Ellie\"))\n",
        "print(Order[namelist.index(\"Ellie\")])\n",
        "\n"
      ],
      "metadata": {
        "id": "oTz6t_dHrSZV",
        "colab": {
          "base_uri": "https://localhost:8080/"
        },
        "outputId": "5d134f97-785b-4c17-b48d-e8aab85ecbd9"
      },
      "execution_count": null,
      "outputs": [
        {
          "output_type": "stream",
          "name": "stdout",
          "text": [
            "Tim\n",
            "Wee\n",
            "Ellie\n",
            "jon\n",
            "Sam\n",
            "3\n",
            "3rd\n"
          ]
        }
      ]
    },
    {
      "cell_type": "code",
      "source": [
        "#Q7\n",
        "a=input()\n",
        "b=input()\n",
        "print(a+b) #QW without space between\n",
        "print(a,b) #Q W with space between"
      ],
      "metadata": {
        "colab": {
          "base_uri": "https://localhost:8080/"
        },
        "id": "QtWvsRiSyTiz",
        "outputId": "e24d2b54-7284-4d1a-9b86-e42ae7053ca9"
      },
      "execution_count": null,
      "outputs": [
        {
          "output_type": "stream",
          "name": "stdout",
          "text": [
            "Q\n",
            "W\n",
            "QW\n",
            "Q W\n"
          ]
        }
      ]
    },
    {
      "cell_type": "code",
      "source": [
        "#Q8\n",
        "a=int(input())\n",
        "print(\"\\./\")\n",
        "for i in range(a):\n",
        "  print(\".|.\")\n"
      ],
      "metadata": {
        "colab": {
          "base_uri": "https://localhost:8080/"
        },
        "id": "OhoyiVQR0o2m",
        "outputId": "0ad8003c-6636-41d3-d54b-b60bd6b65f2d"
      },
      "execution_count": null,
      "outputs": [
        {
          "output_type": "stream",
          "name": "stdout",
          "text": [
            "5\n",
            "\\./\n",
            ".|.\n",
            ".|.\n",
            ".|.\n",
            ".|.\n",
            ".|.\n"
          ]
        }
      ]
    },
    {
      "cell_type": "code",
      "source": [
        "#Q9\n",
        "\n",
        "dance_steps=[\"<\",\"+\",\"&\",\">\"]\n",
        "dance_routine=\"<+&>\"\n",
        "#dance_steps=dance_steps*4\n",
        "dance_routine=dance_routine*4\n",
        "#print(dance_routine[0:16])\n",
        "startstep=input(\":\")\n",
        "for i in range(4):\n",
        "  if dance_steps[i]==startstep:\n",
        " #   for j in range(8):\n",
        " #     print(dance_steps[i+j])\n",
        "    print(dance_routine[i:i+8])\n",
        "    break\n",
        "\n"
      ],
      "metadata": {
        "id": "dBdppVZb4pnF",
        "colab": {
          "base_uri": "https://localhost:8080/"
        },
        "outputId": "2542b1e2-9efc-4dea-dba5-13cc6bc05c5b"
      },
      "execution_count": null,
      "outputs": [
        {
          "output_type": "stream",
          "name": "stdout",
          "text": [
            ":&\n",
            "&><+&><+\n"
          ]
        }
      ]
    },
    {
      "cell_type": "code",
      "source": [
        "#Q10\n",
        "I=0 #2\n",
        "M=0 #1\n",
        "C=0 #3\n",
        "W=0 #1\n",
        "\n",
        "icecream=input()\n",
        "if len(icecream)!=6:\n",
        "  print(\"Key in 6 chars.\")\n",
        "else:\n",
        "  I=icecream.count(\"I\")\n",
        "  M=icecream.count(\"M\")\n",
        "  C=icecream.count(\"C\")\n",
        "  W=icecream.count(\"W\")\n",
        "  #print(\":\",M,W,I,C) #1,1,2,3\n",
        "  for i in range(1-M):\n",
        "    print(\"M\")\n",
        "  for i in range(1-W):\n",
        "    print(\"W\")\n",
        "  for i in range(2-I):\n",
        "    print(\"I\")\n",
        "  for i in range(3-C):\n",
        "    print (\"C\")\n"
      ],
      "metadata": {
        "colab": {
          "base_uri": "https://localhost:8080/"
        },
        "id": "gDWku-No0BbD",
        "outputId": "36baecb8-fc47-4341-cb15-2c704627913f"
      },
      "execution_count": null,
      "outputs": [
        {
          "output_type": "stream",
          "name": "stdout",
          "text": [
            "MWCCCC\n",
            "I\n",
            "I\n"
          ]
        }
      ]
    },
    {
      "cell_type": "code",
      "source": [],
      "metadata": {
        "id": "kUzZz1tU7Aer"
      },
      "execution_count": null,
      "outputs": []
    }
  ]
}